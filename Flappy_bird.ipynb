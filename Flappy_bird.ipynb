{
 "cells": [
  {
   "cell_type": "code",
   "execution_count": 2,
   "metadata": {},
   "outputs": [
    {
     "name": "stdout",
     "output_type": "stream",
     "text": [
      "pygame 1.9.4\n",
      "Hello from the pygame community. https://www.pygame.org/contribute.html\n"
     ]
    }
   ],
   "source": [
    "from itertools import cycle\n",
    "from numpy.random import randint,choice\n",
    "import sys\n",
    "import pygame\n",
    "from pygame.locals import *"
   ]
  },
  {
   "cell_type": "code",
   "execution_count": 3,
   "metadata": {},
   "outputs": [],
   "source": [
    "FPS = 30\n",
    "SCREENWIDTH  = 288\n",
    "SCREENHEIGHT = 512\n",
    "# amount by which base can maximum shift to left\n",
    "PIPEGAPSIZE  = 160 # gap between upper and lower part of pipe\n",
    "BASEY        = SCREENHEIGHT * 0.79\n",
    "SCORE = 0\n"
   ]
  },
  {
   "cell_type": "code",
   "execution_count": 4,
   "metadata": {},
   "outputs": [],
   "source": [
    "BACKGROUND = pygame.image.load('background.png')"
   ]
  },
  {
   "cell_type": "code",
   "execution_count": 15,
   "metadata": {},
   "outputs": [],
   "source": [
    "class Bird(pygame.sprite.Sprite):\n",
    "\n",
    "    def __init__(self,displayScreen):\n",
    "\n",
    "        pygame.sprite.Sprite.__init__(self)\n",
    "\n",
    "        self.image = pygame.image.load('redbird.png')\n",
    "\n",
    "        self.x = int(SCREENWIDTH * 0.2)\n",
    "        self.y = SCREENHEIGHT*0.5\n",
    "        \n",
    "        self.rect = self.image.get_rect()\n",
    "        self.height = self.rect.height\n",
    "        self.screen = displayScreen\n",
    "        \n",
    "        self.playerVelY = -9\n",
    "        self.playerMaxVelY = 10\n",
    "        self.playerMinVelY = -8\n",
    "        self.playerAccY = 1\n",
    "        self.playerFlapAcc = -9\n",
    "        self.playerFlapped = False\n",
    "        self.display(self.x, self.y)\n",
    "\n",
    "    def display(self,x,y):\n",
    "\n",
    "        self.screen.blit(self.image, (x,y))\n",
    "        self.rect.x, self.rect.y = x,y\n",
    "\n",
    "\n",
    "    def move(self,input):\n",
    "        if input != None:\n",
    "            self.playerVelY = self.playerFlapAcc\n",
    "            self.playerFlapped = True\n",
    "\n",
    "        if self.playerVelY < self.playerMaxVelY and not self.playerFlapped:\n",
    "            self.playerVelY += self.playerAccY\n",
    "        if self.playerFlapped:\n",
    "            self.playerFlapped = False\n",
    "        self.y += min(self.playerVelY, SCREENHEIGHT - self.y - self.height)\n",
    "        self.y = max(self.y,0)\n",
    "        self.display(self.x,self.y)\n",
    "\n",
    "\n"
   ]
  },
  {
   "cell_type": "code",
   "execution_count": 16,
   "metadata": {},
   "outputs": [],
   "source": [
    "class PipeBlock(pygame.sprite.Sprite):\n",
    "\n",
    "    def __init__(self,image,upper):\n",
    "        pygame.sprite.Sprite.__init__(self)\n",
    "        if upper == False:\n",
    "            self.image = pygame.image.load(image)\n",
    "        else:\n",
    "            self.image = pygame.transform.rotate(pygame.image.load(image),180)\n",
    "        self.rect = self.image.get_rect()\n",
    "\n",
    "\n",
    "\n"
   ]
  },
  {
   "cell_type": "code",
   "execution_count": 17,
   "metadata": {},
   "outputs": [],
   "source": [
    "class Pipe(pygame.sprite.Sprite):\n",
    "    def __init__(self,screen,x):\n",
    "        pygame.sprite.Sprite.__init__(self)\n",
    "\n",
    "        self.screen = screen\n",
    "        self.lowerBlock = PipeBlock('pipe-red.png',False)\n",
    "        self.upperBlock = PipeBlock('pipe-red.png',True)\n",
    "        self.pipeWidth = self.upperBlock.rect.width\n",
    "        self.x = x\n",
    "        heights = self.getHeight()\n",
    "        self.upperY, self.lowerY = heights[0], heights[1]\n",
    "        self.behindBird = 0\n",
    "        self.display()\n",
    "\n",
    "    def getHeight(self):\n",
    "        # randVal = randint(1,10)\n",
    "        randVal = choice([1,2,3,4,5,6,7,8,9], p =[0.04,0.04*2,0.04*3,0.04*4,0.04*5,0.04*4,0.04*3,0.04*2,0.04] )\n",
    "        midYPos = 106 + 30*randVal\n",
    "        upperPos = midYPos - (PIPEGAPSIZE/2)\n",
    "        lowerPos = midYPos + (PIPEGAPSIZE/2)\n",
    "        # print(upperPos)\n",
    "        # print(lowerPos)\n",
    "        # print('-------')\n",
    "        return([upperPos,lowerPos])\n",
    "\n",
    "    def display(self):\n",
    "\n",
    "        self.screen.blit(self.lowerBlock.image, (self.x, self.lowerY))\n",
    "        self.screen.blit(self.upperBlock.image, (self.x, self.upperY - self.upperBlock.rect.height))\n",
    "        self.upperBlock.rect.x, self.upperBlock.rect.y = self.x, (self.upperY - self.upperBlock.rect.height)\n",
    "        self.lowerBlock.rect.x, self.lowerBlock.rect.y = self.x, self.lowerY\n",
    "\n",
    "    def move(self):\n",
    "\n",
    "        self.x -= 3\n",
    "\n",
    "        if self.x <= 0:\n",
    "            self.x = SCREENWIDTH\n",
    "            heights = self.getHeight()\n",
    "            self.upperY, self.lowerY = heights[0], heights[1]\n",
    "            self.behindBird = 0\n",
    "\n",
    "        self.display()\n",
    "        return([self.x+(self.pipeWidth/2), self.upperY, self.lowerY])\n",
    "\n",
    "\n",
    "\n",
    "\n",
    "\n",
    "\n",
    "\n",
    "\n",
    "\n",
    "\n"
   ]
  },
  {
   "cell_type": "code",
   "execution_count": 25,
   "metadata": {},
   "outputs": [],
   "source": [
    "def game():\n",
    "    pygame.init()\n",
    "    FPSCLOCK = pygame.time.Clock()\n",
    "    DISPLAY  = pygame.display.set_mode((SCREENWIDTH, SCREENHEIGHT))\n",
    "    pygame.display.set_caption('Flappy Bird')\n",
    "    global SCORE\n",
    "    bird = Bird(DISPLAY)\n",
    "    pipe1 = Pipe(DISPLAY, SCREENWIDTH+100)\n",
    "    pipe2 = Pipe(DISPLAY, SCREENWIDTH+100+(SCREENWIDTH/2))\n",
    "    pipeGroup = pygame.sprite.Group()\n",
    "    pipeGroup.add(pipe1.upperBlock)\n",
    "    pipeGroup.add(pipe2.upperBlock)\n",
    "    pipeGroup.add(pipe1.lowerBlock)\n",
    "    pipeGroup.add(pipe2.lowerBlock)\n",
    "\n",
    "    # birdGroup = pygame.sprite.Group()\n",
    "    # birdGroup.add(bird1)\n",
    "    moved = False\n",
    "    pause =0\n",
    "\n",
    "    while True:\n",
    "        DISPLAY.blit(BACKGROUND,(0,0))\n",
    "\n",
    "        # if (pipe1.x < pipe2.x and pipe1.behindBird==0) or (pipe2.x < pipe1.x and pipe2.behindBird==1):\n",
    "        # \tinput = (bird.y,pipe1.x, pipe1.upperY, pipe1.lowerY)\n",
    "        # \tcenterY = (pipe1.upperY + pipe1.lowerY)/2\n",
    "        # elif (pipe1.x < pipe2.x and pipe1.behindBird==1) or (pipe2.x < pipe1.x and pipe2.behindBird==0):\n",
    "        # \tinput = (bird.y,pipe2.x, pipe2.upperY, pipe2.lowerY)\n",
    "        # \tcenterY = (pipe2.upperY + pipe2.lowerY)/2\n",
    "\n",
    "        # print(input)\n",
    "\n",
    "        t = pygame.sprite.spritecollideany(bird,pipeGroup)\n",
    "\n",
    "        if t!=None or (bird.y== 512 - bird.height) or (bird.y == 0):\n",
    "            print(\"GAME OVER\")\n",
    "            print(\"FINAL SCORE IS %d\"%SCORE)\n",
    "            return(SCORE)\n",
    "        for event in pygame.event.get():\n",
    "            if event.type == QUIT or (event.type == KEYDOWN and (event.key == K_ESCAPE )):\n",
    "                pygame.quit()\n",
    "                sys.exit()\n",
    "            if event.type == KEYDOWN and (event.key == K_SPACE or event.key == K_RETURN):\n",
    "                bird.move(\"UP\")\n",
    "                moved = True\n",
    "            if event.type == KEYDOWN and event.key == K_m :\n",
    "                pause=1\n",
    "        if moved == False:\n",
    "            bird.move(None)\n",
    "        else:\n",
    "            moved = False\n",
    "        pipe1Pos = pipe1.move()\n",
    "        if pipe1Pos[0] <= int(SCREENWIDTH * 0.2) - int(bird.rect.width/2):\n",
    "            if pipe1.behindBird == 0:\n",
    "                pipe1.behindBird = 1\n",
    "                SCORE += 1\n",
    "                print(\"SCORE IS %tb\"%SCORE)\n",
    "\n",
    "        pipe2Pos = pipe2.move()\n",
    "        if pipe2Pos[0] <= int(SCREENWIDTH * 0.2) - int(bird.rect.width/2):\n",
    "            if pipe2.behindBird == 0:\n",
    "                pipe2.behindBird = 1\n",
    "                SCORE += 1\n",
    "                print(\"SCORE IS %tb\"%SCORE)\n",
    "\n",
    "\n",
    "\n",
    "        if pause==0:\n",
    "            pygame.display.update()\n",
    "\n",
    "        FPSCLOCK.tick(FPS)\n",
    "\n",
    "\n"
   ]
  },
  {
   "cell_type": "code",
   "execution_count": 41,
   "metadata": {},
   "outputs": [
    {
     "name": "stdout",
     "output_type": "stream",
     "text": [
      "GAME OVER\n",
      "FINAL SCORE IS 0\n"
     ]
    },
    {
     "data": {
      "text/plain": [
       "0"
      ]
     },
     "execution_count": 41,
     "metadata": {},
     "output_type": "execute_result"
    }
   ],
   "source": [
    "game()"
   ]
  },
  {
   "cell_type": "code",
   "execution_count": null,
   "metadata": {},
   "outputs": [],
   "source": []
  },
  {
   "cell_type": "code",
   "execution_count": null,
   "metadata": {},
   "outputs": [],
   "source": []
  }
 ],
 "metadata": {
  "kernelspec": {
   "display_name": "Python 3",
   "language": "python",
   "name": "python3"
  },
  "language_info": {
   "codemirror_mode": {
    "name": "ipython",
    "version": 3
   },
   "file_extension": ".py",
   "mimetype": "text/x-python",
   "name": "python",
   "nbconvert_exporter": "python",
   "pygments_lexer": "ipython3",
   "version": "3.6.7"
  }
 },
 "nbformat": 4,
 "nbformat_minor": 2
}
